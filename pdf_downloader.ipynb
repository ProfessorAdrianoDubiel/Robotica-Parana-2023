{
 "cells": [
  {
   "cell_type": "code",
   "execution_count": 2,
   "id": "61526f3d",
   "metadata": {},
   "outputs": [],
   "source": [
    "#Programa de Baixa Apostila Robótica SEED-PR\n",
    "#Autor: Adriano Dubiel\n",
    "#Data: 13 de outubro de 2023\n",
    "\n",
    "from urllib.request import urlopen, Request\n",
    "from bs4 import BeautifulSoup\n",
    "import re\n",
    "\n",
    "import os\n",
    "import requests"
   ]
  },
  {
   "cell_type": "code",
   "execution_count": 3,
   "id": "7f09eefb",
   "metadata": {},
   "outputs": [],
   "source": [
    "#Aqui deve ser inserido o endereço da pasta que você deseja armazenar as apostilas.\n",
    "saida_dir = \"/media/adriano/Manaus/robotica/apostilas_2023\""
   ]
  },
  {
   "cell_type": "code",
   "execution_count": 4,
   "id": "498c6dd0",
   "metadata": {},
   "outputs": [],
   "source": [
    "#Variável com uma lista com os endereços dos locais onde se encontram as apostilas\n",
    "#do projeto Robótica Paraná 2023.\n",
    "urls = [\n",
    "    'https://aluno.escoladigital.pr.gov.br/sites/alunos/arquivos_restritos/files/documento/2023-02/robotica_parana_plano_curso_ensino_medio2023.pdf',\n",
    "    'https://aluno.escoladigital.pr.gov.br/sites/alunos/arquivos_restritos/files/documento/2021-12/aula01_por_que_robotica_modulo1.pdf',\n",
    "    'https://aluno.escoladigital.pr.gov.br/sites/alunos/arquivos_restritos/files/documento/2022-02/aula02_tensao_corrente_resistencia_m1_educacional.pdf',\n",
    "    'https://aluno.escoladigital.pr.gov.br/sites/alunos/arquivos_restritos/files/documento/2023-07/aula3_kit_robotica_educacional_kit2021em_m1_versao3.pdf',\n",
    "    'https://aluno.escoladigital.pr.gov.br/sites/alunos/arquivos_restritos/files/documento/2023-06/aula3_kit2023_robotica_educacional_em_m1_versao5.pdf',\n",
    "    'https://aluno.escoladigital.pr.gov.br/sites/alunos/arquivos_restritos/files/documento/2021-12/aula04_arduino_uno_modulo1.pdf',\n",
    "    'https://aluno.escoladigital.pr.gov.br/sites/alunos/arquivos_restritos/files/documento/2022-01/aula05_softwares_arduino_mBlock_modulo1.pdf',\n",
    "    'https://aluno.escoladigital.pr.gov.br/sites/alunos/arquivos_restritos/files/documento/2022-01/aula06_%20portas_digitais_modulo1.pdf',\n",
    "    'https://aluno.escoladigital.pr.gov.br/sites/alunos/arquivos_restritos/files/documento/2021-10/m1_aula07_circuito_eletrico.pdf',\n",
    "    'https://aluno.escoladigital.pr.gov.br/sites/alunos/arquivos_restritos/files/documento/2022-03/aula08_led_resistor_modulo1_versao4.pdf',\n",
    "    'https://aluno.escoladigital.pr.gov.br/sites/alunos/arquivos_restritos/files/documento/2022-03/aula09_%20semaforo_carros_robotica_educacional_m1_versao3.pdf',\n",
    "    'https://aluno.escoladigital.pr.gov.br/sites/alunos/arquivos_restritos/files/documento/2023-08/aula09_modulo_semaforo_carros_kit2023_em_m1.pdf',\n",
    "    'https://aluno.escoladigital.pr.gov.br/sites/alunos/arquivos_restritos/files/documento/2023-04/aula10_semaforo_cruzamento_carros_robotica_educacional_m1_versao4.pdf',\n",
    "    'https://aluno.escoladigital.pr.gov.br/sites/alunos/arquivos_restritos/files/documento/2023-08/aula10_modulo_semaforo_cruzamento_carros_kit2023_em_m1.pdf',\n",
    "    'https://aluno.escoladigital.pr.gov.br/sites/alunos/arquivos_restritos/files/documento/2023-04/aula11_semaforo_pedestres_robotica_educacional_em_m1_versao5.pdf',\n",
    "    'https://aluno.escoladigital.pr.gov.br/sites/alunos/arquivos_restritos/files/documento/2023-08/aula11_modulo_semaforo_pedestres_kit2023_em_m1.pdf',\n",
    "    'https://aluno.escoladigital.pr.gov.br/sites/alunos/arquivos_restritos/files/documento/2022-03/aula12_semaforo_cruzamento_carros_pedestres_robotica_educacional_versao3.pdf',\n",
    "    'https://aluno.escoladigital.pr.gov.br/sites/alunos/arquivos_restritos/files/documento/2023-08/aula12_modulo_semaforo_cruzamento_carros_pedestres_kit2023_em_m1.pdf',\n",
    "    'https://aluno.escoladigital.pr.gov.br/sites/alunos/arquivos_restritos/files/documento/2023-04/aula13_push_button_em_m1v3.pdf',\n",
    "    'https://aluno.escoladigital.pr.gov.br/sites/alunos/arquivos_restritos/files/documento/2022-05/aula14_feedbacks_inventario1_robotica_educacional_m1_versao2.pdf',\n",
    "    'https://aluno.escoladigital.pr.gov.br/sites/alunos/arquivos_restritos/files/documento/2021-05/aula_15_semaforo_carros_pedestres_com_botao.pdf',\n",
    "    'https://aluno.escoladigital.pr.gov.br/sites/alunos/arquivos_restritos/files/documento/2023-08/aula15_semaforo_carros_pedestres_com_botao_kit2023_em_m1.pdf',\n",
    "    'https://aluno.escoladigital.pr.gov.br/sites/alunos/arquivos_restritos/files/documento/2022-05/aula16_display_7segmentos_robotica_educacional_m1_versao4.pdf',\n",
    "    'https://aluno.escoladigital.pr.gov.br/sites/alunos/arquivos_restritos/files/documento/2023-05/aula16_display7_segmentos_kit2023_em_m1.pdf',\n",
    "    'https://aluno.escoladigital.pr.gov.br/sites/alunos/arquivos_restritos/files/documento/2021-04/aula17_fonte_dc_plug_p4.pdf',\n",
    "    'https://aluno.escoladigital.pr.gov.br/sites/alunos/arquivos_restritos/files/documento/2021-05/aula_18_portas_pwm.pdf',\n",
    "    'https://aluno.escoladigital.pr.gov.br/sites/alunos/arquivos_restritos/files/documento/2021-05/aula_19_led_fade_in.pdf',\n",
    "    'https://aluno.escoladigital.pr.gov.br/sites/alunos/arquivos_restritos/files/documento/2021-05/aula_20_led_fade_out.pdf',\n",
    "    'https://aluno.escoladigital.pr.gov.br/sites/alunos/arquivos_restritos/files/documento/2022-08/aula21_super_maquina_80_robotica_educacional_m1_versao2.pdf',\n",
    "    'https://aluno.escoladigital.pr.gov.br/sites/alunos/arquivos_restritos/files/documento/2022-07/aula25_led_rgb_robotica_educacional_m1_versao2.pdf',\n",
    "    'https://aluno.escoladigital.pr.gov.br/sites/alunos/arquivos_restritos/files/documento/2022-08/aula26_arco_iris_robotica_educacional_m1_versao3.pdf',\n",
    "    'https://aluno.escoladigital.pr.gov.br/sites/alunos/arquivos_restritos/files/documento/2021-05/aula_27_sensor_ldr.pdf',\n",
    "    'https://aluno.escoladigital.pr.gov.br/sites/alunos/arquivos_restritos/files/documento/2023-08/aula27_sensor_ldr_kit2023_em_m1_v3.pdf',\n",
    "    'https://aluno.escoladigital.pr.gov.br/sites/alunos/arquivos_restritos/files/documento/2022-05/aula28_feedbacks_inventario2_robotica_educacional_m1_versao2.pdf',\n",
    "    'https://aluno.escoladigital.pr.gov.br/sites/alunos/arquivos_restritos/files/documento/2023-05/aula29%20_sensor_de_temperatura_kit2023_em_m1.pdf',\n",
    "    'https://aluno.escoladigital.pr.gov.br/sites/alunos/arquivos_restritos/files/documento/2022-09/aula30_sensor_de_obstaculo_ir_em_v3.pdf',\n",
    "    'https://aluno.escoladigital.pr.gov.br/sites/alunos/arquivos_restritos/files/documento/2023-08/aula31_controle_motor_dc_ponte_kit2023_em_m1_v2.pdf',\n",
    "    'https://aluno.escoladigital.pr.gov.br/sites/alunos/arquivos_restritos/files/documento/2023-08/aula32_kit_chassi_2wd_robo_kit2023_em_m1_v2.pdf',\n",
    "    'https://aluno.escoladigital.pr.gov.br/sites/alunos/arquivos_restritos/files/documento/2023-10/aula33_seguidor_linha_em_m1_v5.pdf',\n",
    "    'https://aluno.escoladigital.pr.gov.br/sites/alunos/arquivos_restritos/files/documento/2023-10/aula33_seguidor_linha_ponte_h_kit2023_v5.pdf',\n",
    "    'https://aluno.escoladigital.pr.gov.br/sites/alunos/arquivos_restritos/files/documento/2023-08/aula36_display_lcd_16x2_em_m1_versao3.pdf',\n",
    "    'https://aluno.escoladigital.pr.gov.br/sites/alunos/arquivos_restritos/files/documento/2023-09/aula36_display_oled_kit2023_em_m1.pdf',\n",
    "    'https://aluno.escoladigital.pr.gov.br/sites/alunos/arquivos_restritos/files/documento/2022-09/aula37_trena_digital_m1_v_2.pdf',\n",
    "    'https://aluno.escoladigital.pr.gov.br/sites/alunos/arquivos_restritos/files/documento/2023-09/aula37_trena_digital_kit_2023_em_m1_v2.pdf',\n",
    "    'https://aluno.escoladigital.pr.gov.br/sites/alunos/arquivos_restritos/files/documento/2023-09/aula38_robo_sumo_estrutura_em_m1_v2.pdf',\n",
    "    'https://aluno.escoladigital.pr.gov.br/sites/alunos/arquivos_restritos/files/documento/2023-05/aula38_robo_sumo_ponte_h_%20kit2023_%20em_m1.pdf',\n",
    "    'https://aluno.escoladigital.pr.gov.br/sites/alunos/arquivos_restritos/files/documento/2022-05/aula42_feedbacks_inventario3_robotica_educacional_m1_versao2.pdf',\n",
    "    'https://aluno.escoladigital.pr.gov.br/sites/alunos/arquivos_restritos/files/documento/2023-09/aula03_codigo_morse_em_m2_v2.pdf',\n",
    "    'https://aluno.escoladigital.pr.gov.br/sites/alunos/arquivos_restritos/files/documento/2023-08/aula04_semaforo_inteligente_ir_kit2023_em_m2.pdf',\n",
    "    'https://aluno.escoladigital.pr.gov.br/sites/alunos/arquivos_restritos/files/documento/2023-09/aula05_semaforo_completo_display_em_m2_v3.pdf',\n",
    "    'https://aluno.escoladigital.pr.gov.br/sites/alunos/arquivos_restritos/files/documento/2023-09/aula05_semaforo_completo_display4_kit2023_em_m2.pdf',\n",
    "    'https://aluno.escoladigital.pr.gov.br/sites/alunos/arquivos_restritos/files/documento/2021-11/aula06_matriz_led_m2_versao2.pdf',\n",
    "    'https://aluno.escoladigital.pr.gov.br/sites/alunos/arquivos_restritos/files/documento/2021-11/aula07_desenhando_matriz_leds_m2_versao2.pdf',\n",
    "    'https://aluno.escoladigital.pr.gov.br/sites/alunos/arquivos_restritos/files/documento/2023-04/aula08_painel_de_senhas_em_m2v2',\n",
    "    'https://aluno.escoladigital.pr.gov.br/sites/alunos/arquivos_restritos/files/documento/2023-08/aula08_painel_de_senhas_kit2023_em_m2_v3.pdf',\n",
    "    'https://aluno.escoladigital.pr.gov.br/sites/alunos/arquivos_restritos/files/documento/2023-08/aula9_escrevendo_mensagens_display_oled_kit2023_em_m2_v2.pdf',\n",
    "    'https://aluno.escoladigital.pr.gov.br/sites/alunos/arquivos_restritos/files/documento/2023-09/aula11_sensor_de_chuva_em_m2_v4.pdf',\n",
    "    'https://aluno.escoladigital.pr.gov.br/sites/alunos/arquivos_restritos/files/documento/2023-08/aula12_sensor_umidade_solo_em_m2_v3.pdf',\n",
    "    'https://aluno.escoladigital.pr.gov.br/sites/alunos/arquivos_restritos/files/documento/2023-08/aula13_mecanismo_irrigador_automatico_em_m2_v3.pdf',\n",
    "    'https://aluno.escoladigital.pr.gov.br/sites/alunos/arquivos_restritos/files/documento/2023-08/aula19_joystick_shield_em_m2_v3.pdf',\n",
    "    'https://aluno.escoladigital.pr.gov.br/sites/alunos/arquivos_restritos/files/documento/2022-08/aula20_braco_robotico_robotica_educacional_m2.pdf',\n",
    "    'https://aluno.escoladigital.pr.gov.br/sites/alunos/arquivos_restritos/files/documento/2023-05/aula%2021_braco_robotico_em_m2_versao3.pdf',\n",
    "    'https://aluno.escoladigital.pr.gov.br/sites/alunos/arquivos_restritos/files/documento/2023-09/aula24_sensor_umidade_temperatura_em_m2_v2.pdf',\n",
    "    'https://aluno.escoladigital.pr.gov.br/sites/alunos/arquivos_restritos/files/documento/2023-08/aula27_acelerometro_giroscopio_robotica_educacional_m2_versao3.pdf',\n",
    "    'https://aluno.escoladigital.pr.gov.br/sites/alunos/arquivos_restritos/files/documento/2022-01/aula30_receptor_ir_e_controle_remoto_m2.pdf',\n",
    "    'https://aluno.escoladigital.pr.gov.br/sites/alunos/arquivos_restritos/files/documento/2022-01/aula31_rele_m2.pdf',\n",
    "    'https://aluno.escoladigital.pr.gov.br/sites/alunos/arquivos_restritos/files/documento/2022-01/aula32_%20modulo_rf433_mhz1_m2.pdf',\n",
    "    'https://aluno.escoladigital.pr.gov.br/sites/alunos/arquivos_restritos/files/documento/2023-09/aula32_%20modulo_rf24l01_1_kit2023_em_m2.pdf',\n",
    "    'https://aluno.escoladigital.pr.gov.br/sites/alunos/arquivos_restritos/files/documento/2023-10/aula33_modulo_rf433mhz2_em_m2_v2.pdf',\n",
    "    'https://aluno.escoladigital.pr.gov.br/sites/alunos/arquivos_restritos/files/documento/2023-09/aula33_modulo_rf24l01_2_kit2023_em_m2.pdf',\n",
    "    'https://aluno.escoladigital.pr.gov.br/sites/alunos/arquivos_restritos/files/documento/2023-10/aula34_projeto_chat_via_rf_em_m2_v2.pdf',\n",
    "    'https://aluno.escoladigital.pr.gov.br/sites/alunos/arquivos_restritos/files/documento/2023-09/aula34_projeto_chat_via_nrf24l01_kit2023_em_m2.pdf',\n",
    "    'https://aluno.escoladigital.pr.gov.br/sites/alunos/arquivos_restritos/files/documento/2023-09/aula35_modulo_wireless_em_m2_v2.pdf',\n",
    "    'https://aluno.escoladigital.pr.gov.br/sites/alunos/arquivos_restritos/files/documento/2022-01/aula36_comunicacao_modulo_wifi_em_html_m2.pdf',\n",
    "    'https://aluno.escoladigital.pr.gov.br/sites/alunos/arquivos_restritos/files/documento/2023-09/aula37_modulo_wifi_iot_com_sensor_em_m2_v2.pdf',\n",
    "    'https://aluno.escoladigital.pr.gov.br/sites/alunos/arquivos_restritos/files/documento/2022-05/aula38_modulo_wifi_atuador_robotica_educacional_m2_versao2.pdf',\n",
    "    'https://aluno.escoladigital.pr.gov.br/sites/alunos/arquivos_restritos/files/documento/2022-05/aula39_robo_wireless_robotica_educacional_m2.pdf',\n",
    "    'https://aluno.escoladigital.pr.gov.br/sites/alunos/arquivos_restritos/files/documento/2022-05/aula40_braco_robotico_via_radiofrequencia_robotica_educacional_m2.pdf',\n",
    "    'https://aluno.escoladigital.pr.gov.br/sites/alunos/arquivos_restritos/files/documento/2022-09/aula41_robo_radio_controlado_robotica_educacional_m2_v2.pdf',\n",
    "    'https://aluno.escoladigital.pr.gov.br/sites/alunos/arquivos_restritos/files/documento/2022-05/aula42_feedbacks_inventario3_robotica_educacional_m2.pdf',\n",
    "]"
   ]
  },
  {
   "cell_type": "code",
   "execution_count": 5,
   "id": "6435a557",
   "metadata": {},
   "outputs": [
    {
     "data": {
      "text/plain": [
       "80"
      ]
     },
     "execution_count": 5,
     "metadata": {},
     "output_type": "execute_result"
    }
   ],
   "source": [
    "#Quantidade de apostilas que serão baixadas.\n",
    "len(urls)"
   ]
  },
  {
   "cell_type": "code",
   "execution_count": 36,
   "id": "4540ca0d",
   "metadata": {},
   "outputs": [
    {
     "ename": "KeyboardInterrupt",
     "evalue": "",
     "output_type": "error",
     "traceback": [
      "\u001b[0;31m---------------------------------------------------------------------------\u001b[0m",
      "\u001b[0;31mKeyboardInterrupt\u001b[0m                         Traceback (most recent call last)",
      "\u001b[0;32m<ipython-input-36-cd90e9bb499e>\u001b[0m in \u001b[0;36m<module>\u001b[0;34m\u001b[0m\n\u001b[1;32m      1\u001b[0m \u001b[0;32mfor\u001b[0m \u001b[0murl\u001b[0m \u001b[0;32min\u001b[0m \u001b[0murls\u001b[0m\u001b[0;34m:\u001b[0m\u001b[0;34m\u001b[0m\u001b[0;34m\u001b[0m\u001b[0m\n\u001b[0;32m----> 2\u001b[0;31m     \u001b[0mresponse\u001b[0m \u001b[0;34m=\u001b[0m \u001b[0mrequests\u001b[0m\u001b[0;34m.\u001b[0m\u001b[0mget\u001b[0m\u001b[0;34m(\u001b[0m\u001b[0murl\u001b[0m\u001b[0;34m)\u001b[0m\u001b[0;34m\u001b[0m\u001b[0;34m\u001b[0m\u001b[0m\n\u001b[0m\u001b[1;32m      3\u001b[0m \u001b[0;34m\u001b[0m\u001b[0m\n\u001b[1;32m      4\u001b[0m     \u001b[0;32mif\u001b[0m \u001b[0mresponse\u001b[0m\u001b[0;34m.\u001b[0m\u001b[0mstatus_code\u001b[0m \u001b[0;34m==\u001b[0m \u001b[0;36m200\u001b[0m\u001b[0;34m:\u001b[0m\u001b[0;34m\u001b[0m\u001b[0;34m\u001b[0m\u001b[0m\n\u001b[1;32m      5\u001b[0m         \u001b[0marquivo_path\u001b[0m \u001b[0;34m=\u001b[0m \u001b[0mos\u001b[0m\u001b[0;34m.\u001b[0m\u001b[0mpath\u001b[0m\u001b[0;34m.\u001b[0m\u001b[0mjoin\u001b[0m\u001b[0;34m(\u001b[0m\u001b[0msaida_dir\u001b[0m\u001b[0;34m,\u001b[0m \u001b[0mos\u001b[0m\u001b[0;34m.\u001b[0m\u001b[0mpath\u001b[0m\u001b[0;34m.\u001b[0m\u001b[0mbasename\u001b[0m\u001b[0;34m(\u001b[0m\u001b[0murl\u001b[0m\u001b[0;34m)\u001b[0m\u001b[0;34m)\u001b[0m\u001b[0;34m\u001b[0m\u001b[0;34m\u001b[0m\u001b[0m\n",
      "\u001b[0;32m/usr/local/lib/python3.8/dist-packages/requests/api.py\u001b[0m in \u001b[0;36mget\u001b[0;34m(url, params, **kwargs)\u001b[0m\n\u001b[1;32m     73\u001b[0m \u001b[0;34m\u001b[0m\u001b[0m\n\u001b[1;32m     74\u001b[0m     \u001b[0mkwargs\u001b[0m\u001b[0;34m.\u001b[0m\u001b[0msetdefault\u001b[0m\u001b[0;34m(\u001b[0m\u001b[0;34m'allow_redirects'\u001b[0m\u001b[0;34m,\u001b[0m \u001b[0;32mTrue\u001b[0m\u001b[0;34m)\u001b[0m\u001b[0;34m\u001b[0m\u001b[0;34m\u001b[0m\u001b[0m\n\u001b[0;32m---> 75\u001b[0;31m     \u001b[0;32mreturn\u001b[0m \u001b[0mrequest\u001b[0m\u001b[0;34m(\u001b[0m\u001b[0;34m'get'\u001b[0m\u001b[0;34m,\u001b[0m \u001b[0murl\u001b[0m\u001b[0;34m,\u001b[0m \u001b[0mparams\u001b[0m\u001b[0;34m=\u001b[0m\u001b[0mparams\u001b[0m\u001b[0;34m,\u001b[0m \u001b[0;34m**\u001b[0m\u001b[0mkwargs\u001b[0m\u001b[0;34m)\u001b[0m\u001b[0;34m\u001b[0m\u001b[0;34m\u001b[0m\u001b[0m\n\u001b[0m\u001b[1;32m     76\u001b[0m \u001b[0;34m\u001b[0m\u001b[0m\n\u001b[1;32m     77\u001b[0m \u001b[0;34m\u001b[0m\u001b[0m\n",
      "\u001b[0;32m/usr/local/lib/python3.8/dist-packages/requests/api.py\u001b[0m in \u001b[0;36mrequest\u001b[0;34m(method, url, **kwargs)\u001b[0m\n\u001b[1;32m     58\u001b[0m     \u001b[0;31m# cases, and look like a memory leak in others.\u001b[0m\u001b[0;34m\u001b[0m\u001b[0;34m\u001b[0m\u001b[0;34m\u001b[0m\u001b[0m\n\u001b[1;32m     59\u001b[0m     \u001b[0;32mwith\u001b[0m \u001b[0msessions\u001b[0m\u001b[0;34m.\u001b[0m\u001b[0mSession\u001b[0m\u001b[0;34m(\u001b[0m\u001b[0;34m)\u001b[0m \u001b[0;32mas\u001b[0m \u001b[0msession\u001b[0m\u001b[0;34m:\u001b[0m\u001b[0;34m\u001b[0m\u001b[0;34m\u001b[0m\u001b[0m\n\u001b[0;32m---> 60\u001b[0;31m         \u001b[0;32mreturn\u001b[0m \u001b[0msession\u001b[0m\u001b[0;34m.\u001b[0m\u001b[0mrequest\u001b[0m\u001b[0;34m(\u001b[0m\u001b[0mmethod\u001b[0m\u001b[0;34m=\u001b[0m\u001b[0mmethod\u001b[0m\u001b[0;34m,\u001b[0m \u001b[0murl\u001b[0m\u001b[0;34m=\u001b[0m\u001b[0murl\u001b[0m\u001b[0;34m,\u001b[0m \u001b[0;34m**\u001b[0m\u001b[0mkwargs\u001b[0m\u001b[0;34m)\u001b[0m\u001b[0;34m\u001b[0m\u001b[0;34m\u001b[0m\u001b[0m\n\u001b[0m\u001b[1;32m     61\u001b[0m \u001b[0;34m\u001b[0m\u001b[0m\n\u001b[1;32m     62\u001b[0m \u001b[0;34m\u001b[0m\u001b[0m\n",
      "\u001b[0;32m/usr/local/lib/python3.8/dist-packages/requests/sessions.py\u001b[0m in \u001b[0;36mrequest\u001b[0;34m(self, method, url, params, data, headers, cookies, files, auth, timeout, allow_redirects, proxies, hooks, stream, verify, cert, json)\u001b[0m\n\u001b[1;32m    531\u001b[0m         }\n\u001b[1;32m    532\u001b[0m         \u001b[0msend_kwargs\u001b[0m\u001b[0;34m.\u001b[0m\u001b[0mupdate\u001b[0m\u001b[0;34m(\u001b[0m\u001b[0msettings\u001b[0m\u001b[0;34m)\u001b[0m\u001b[0;34m\u001b[0m\u001b[0;34m\u001b[0m\u001b[0m\n\u001b[0;32m--> 533\u001b[0;31m         \u001b[0mresp\u001b[0m \u001b[0;34m=\u001b[0m \u001b[0mself\u001b[0m\u001b[0;34m.\u001b[0m\u001b[0msend\u001b[0m\u001b[0;34m(\u001b[0m\u001b[0mprep\u001b[0m\u001b[0;34m,\u001b[0m \u001b[0;34m**\u001b[0m\u001b[0msend_kwargs\u001b[0m\u001b[0;34m)\u001b[0m\u001b[0;34m\u001b[0m\u001b[0;34m\u001b[0m\u001b[0m\n\u001b[0m\u001b[1;32m    534\u001b[0m \u001b[0;34m\u001b[0m\u001b[0m\n\u001b[1;32m    535\u001b[0m         \u001b[0;32mreturn\u001b[0m \u001b[0mresp\u001b[0m\u001b[0;34m\u001b[0m\u001b[0;34m\u001b[0m\u001b[0m\n",
      "\u001b[0;32m/usr/local/lib/python3.8/dist-packages/requests/sessions.py\u001b[0m in \u001b[0;36msend\u001b[0;34m(self, request, **kwargs)\u001b[0m\n\u001b[1;32m    684\u001b[0m \u001b[0;34m\u001b[0m\u001b[0m\n\u001b[1;32m    685\u001b[0m         \u001b[0;32mif\u001b[0m \u001b[0;32mnot\u001b[0m \u001b[0mstream\u001b[0m\u001b[0;34m:\u001b[0m\u001b[0;34m\u001b[0m\u001b[0;34m\u001b[0m\u001b[0m\n\u001b[0;32m--> 686\u001b[0;31m             \u001b[0mr\u001b[0m\u001b[0;34m.\u001b[0m\u001b[0mcontent\u001b[0m\u001b[0;34m\u001b[0m\u001b[0;34m\u001b[0m\u001b[0m\n\u001b[0m\u001b[1;32m    687\u001b[0m \u001b[0;34m\u001b[0m\u001b[0m\n\u001b[1;32m    688\u001b[0m         \u001b[0;32mreturn\u001b[0m \u001b[0mr\u001b[0m\u001b[0;34m\u001b[0m\u001b[0;34m\u001b[0m\u001b[0m\n",
      "\u001b[0;32m/usr/local/lib/python3.8/dist-packages/requests/models.py\u001b[0m in \u001b[0;36mcontent\u001b[0;34m(self)\u001b[0m\n\u001b[1;32m    826\u001b[0m                 \u001b[0mself\u001b[0m\u001b[0;34m.\u001b[0m\u001b[0m_content\u001b[0m \u001b[0;34m=\u001b[0m \u001b[0;32mNone\u001b[0m\u001b[0;34m\u001b[0m\u001b[0;34m\u001b[0m\u001b[0m\n\u001b[1;32m    827\u001b[0m             \u001b[0;32melse\u001b[0m\u001b[0;34m:\u001b[0m\u001b[0;34m\u001b[0m\u001b[0;34m\u001b[0m\u001b[0m\n\u001b[0;32m--> 828\u001b[0;31m                 \u001b[0mself\u001b[0m\u001b[0;34m.\u001b[0m\u001b[0m_content\u001b[0m \u001b[0;34m=\u001b[0m \u001b[0;34mb''\u001b[0m\u001b[0;34m.\u001b[0m\u001b[0mjoin\u001b[0m\u001b[0;34m(\u001b[0m\u001b[0mself\u001b[0m\u001b[0;34m.\u001b[0m\u001b[0miter_content\u001b[0m\u001b[0;34m(\u001b[0m\u001b[0mCONTENT_CHUNK_SIZE\u001b[0m\u001b[0;34m)\u001b[0m\u001b[0;34m)\u001b[0m \u001b[0;32mor\u001b[0m \u001b[0;34mb''\u001b[0m\u001b[0;34m\u001b[0m\u001b[0;34m\u001b[0m\u001b[0m\n\u001b[0m\u001b[1;32m    829\u001b[0m \u001b[0;34m\u001b[0m\u001b[0m\n\u001b[1;32m    830\u001b[0m         \u001b[0mself\u001b[0m\u001b[0;34m.\u001b[0m\u001b[0m_content_consumed\u001b[0m \u001b[0;34m=\u001b[0m \u001b[0;32mTrue\u001b[0m\u001b[0;34m\u001b[0m\u001b[0;34m\u001b[0m\u001b[0m\n",
      "\u001b[0;32m/usr/local/lib/python3.8/dist-packages/requests/models.py\u001b[0m in \u001b[0;36mgenerate\u001b[0;34m()\u001b[0m\n\u001b[1;32m    748\u001b[0m             \u001b[0;32mif\u001b[0m \u001b[0mhasattr\u001b[0m\u001b[0;34m(\u001b[0m\u001b[0mself\u001b[0m\u001b[0;34m.\u001b[0m\u001b[0mraw\u001b[0m\u001b[0;34m,\u001b[0m \u001b[0;34m'stream'\u001b[0m\u001b[0;34m)\u001b[0m\u001b[0;34m:\u001b[0m\u001b[0;34m\u001b[0m\u001b[0;34m\u001b[0m\u001b[0m\n\u001b[1;32m    749\u001b[0m                 \u001b[0;32mtry\u001b[0m\u001b[0;34m:\u001b[0m\u001b[0;34m\u001b[0m\u001b[0;34m\u001b[0m\u001b[0m\n\u001b[0;32m--> 750\u001b[0;31m                     \u001b[0;32mfor\u001b[0m \u001b[0mchunk\u001b[0m \u001b[0;32min\u001b[0m \u001b[0mself\u001b[0m\u001b[0;34m.\u001b[0m\u001b[0mraw\u001b[0m\u001b[0;34m.\u001b[0m\u001b[0mstream\u001b[0m\u001b[0;34m(\u001b[0m\u001b[0mchunk_size\u001b[0m\u001b[0;34m,\u001b[0m \u001b[0mdecode_content\u001b[0m\u001b[0;34m=\u001b[0m\u001b[0;32mTrue\u001b[0m\u001b[0;34m)\u001b[0m\u001b[0;34m:\u001b[0m\u001b[0;34m\u001b[0m\u001b[0;34m\u001b[0m\u001b[0m\n\u001b[0m\u001b[1;32m    751\u001b[0m                         \u001b[0;32myield\u001b[0m \u001b[0mchunk\u001b[0m\u001b[0;34m\u001b[0m\u001b[0;34m\u001b[0m\u001b[0m\n\u001b[1;32m    752\u001b[0m                 \u001b[0;32mexcept\u001b[0m \u001b[0mProtocolError\u001b[0m \u001b[0;32mas\u001b[0m \u001b[0me\u001b[0m\u001b[0;34m:\u001b[0m\u001b[0;34m\u001b[0m\u001b[0;34m\u001b[0m\u001b[0m\n",
      "\u001b[0;32m/usr/local/lib/python3.8/dist-packages/urllib3/response.py\u001b[0m in \u001b[0;36mstream\u001b[0;34m(self, amt, decode_content)\u001b[0m\n\u001b[1;32m    494\u001b[0m         \u001b[0;32melse\u001b[0m\u001b[0;34m:\u001b[0m\u001b[0;34m\u001b[0m\u001b[0;34m\u001b[0m\u001b[0m\n\u001b[1;32m    495\u001b[0m             \u001b[0;32mwhile\u001b[0m \u001b[0;32mnot\u001b[0m \u001b[0mis_fp_closed\u001b[0m\u001b[0;34m(\u001b[0m\u001b[0mself\u001b[0m\u001b[0;34m.\u001b[0m\u001b[0m_fp\u001b[0m\u001b[0;34m)\u001b[0m\u001b[0;34m:\u001b[0m\u001b[0;34m\u001b[0m\u001b[0;34m\u001b[0m\u001b[0m\n\u001b[0;32m--> 496\u001b[0;31m                 \u001b[0mdata\u001b[0m \u001b[0;34m=\u001b[0m \u001b[0mself\u001b[0m\u001b[0;34m.\u001b[0m\u001b[0mread\u001b[0m\u001b[0;34m(\u001b[0m\u001b[0mamt\u001b[0m\u001b[0;34m=\u001b[0m\u001b[0mamt\u001b[0m\u001b[0;34m,\u001b[0m \u001b[0mdecode_content\u001b[0m\u001b[0;34m=\u001b[0m\u001b[0mdecode_content\u001b[0m\u001b[0;34m)\u001b[0m\u001b[0;34m\u001b[0m\u001b[0;34m\u001b[0m\u001b[0m\n\u001b[0m\u001b[1;32m    497\u001b[0m \u001b[0;34m\u001b[0m\u001b[0m\n\u001b[1;32m    498\u001b[0m                 \u001b[0;32mif\u001b[0m \u001b[0mdata\u001b[0m\u001b[0;34m:\u001b[0m\u001b[0;34m\u001b[0m\u001b[0;34m\u001b[0m\u001b[0m\n",
      "\u001b[0;32m/usr/local/lib/python3.8/dist-packages/urllib3/response.py\u001b[0m in \u001b[0;36mread\u001b[0;34m(self, amt, decode_content, cache_content)\u001b[0m\n\u001b[1;32m    442\u001b[0m             \u001b[0;32melse\u001b[0m\u001b[0;34m:\u001b[0m\u001b[0;34m\u001b[0m\u001b[0;34m\u001b[0m\u001b[0m\n\u001b[1;32m    443\u001b[0m                 \u001b[0mcache_content\u001b[0m \u001b[0;34m=\u001b[0m \u001b[0;32mFalse\u001b[0m\u001b[0;34m\u001b[0m\u001b[0;34m\u001b[0m\u001b[0m\n\u001b[0;32m--> 444\u001b[0;31m                 \u001b[0mdata\u001b[0m \u001b[0;34m=\u001b[0m \u001b[0mself\u001b[0m\u001b[0;34m.\u001b[0m\u001b[0m_fp\u001b[0m\u001b[0;34m.\u001b[0m\u001b[0mread\u001b[0m\u001b[0;34m(\u001b[0m\u001b[0mamt\u001b[0m\u001b[0;34m)\u001b[0m\u001b[0;34m\u001b[0m\u001b[0;34m\u001b[0m\u001b[0m\n\u001b[0m\u001b[1;32m    445\u001b[0m                 \u001b[0;32mif\u001b[0m \u001b[0mamt\u001b[0m \u001b[0;34m!=\u001b[0m \u001b[0;36m0\u001b[0m \u001b[0;32mand\u001b[0m \u001b[0;32mnot\u001b[0m \u001b[0mdata\u001b[0m\u001b[0;34m:\u001b[0m  \u001b[0;31m# Platform-specific: Buggy versions of Python.\u001b[0m\u001b[0;34m\u001b[0m\u001b[0;34m\u001b[0m\u001b[0m\n\u001b[1;32m    446\u001b[0m                     \u001b[0;31m# Close the connection when no data is returned\u001b[0m\u001b[0;34m\u001b[0m\u001b[0;34m\u001b[0m\u001b[0;34m\u001b[0m\u001b[0m\n",
      "\u001b[0;32m/usr/lib/python3.8/http/client.py\u001b[0m in \u001b[0;36mread\u001b[0;34m(self, amt)\u001b[0m\n\u001b[1;32m    457\u001b[0m             \u001b[0;31m# Amount is given, implement using readinto\u001b[0m\u001b[0;34m\u001b[0m\u001b[0;34m\u001b[0m\u001b[0;34m\u001b[0m\u001b[0m\n\u001b[1;32m    458\u001b[0m             \u001b[0mb\u001b[0m \u001b[0;34m=\u001b[0m \u001b[0mbytearray\u001b[0m\u001b[0;34m(\u001b[0m\u001b[0mamt\u001b[0m\u001b[0;34m)\u001b[0m\u001b[0;34m\u001b[0m\u001b[0;34m\u001b[0m\u001b[0m\n\u001b[0;32m--> 459\u001b[0;31m             \u001b[0mn\u001b[0m \u001b[0;34m=\u001b[0m \u001b[0mself\u001b[0m\u001b[0;34m.\u001b[0m\u001b[0mreadinto\u001b[0m\u001b[0;34m(\u001b[0m\u001b[0mb\u001b[0m\u001b[0;34m)\u001b[0m\u001b[0;34m\u001b[0m\u001b[0;34m\u001b[0m\u001b[0m\n\u001b[0m\u001b[1;32m    460\u001b[0m             \u001b[0;32mreturn\u001b[0m \u001b[0mmemoryview\u001b[0m\u001b[0;34m(\u001b[0m\u001b[0mb\u001b[0m\u001b[0;34m)\u001b[0m\u001b[0;34m[\u001b[0m\u001b[0;34m:\u001b[0m\u001b[0mn\u001b[0m\u001b[0;34m]\u001b[0m\u001b[0;34m.\u001b[0m\u001b[0mtobytes\u001b[0m\u001b[0;34m(\u001b[0m\u001b[0;34m)\u001b[0m\u001b[0;34m\u001b[0m\u001b[0;34m\u001b[0m\u001b[0m\n\u001b[1;32m    461\u001b[0m         \u001b[0;32melse\u001b[0m\u001b[0;34m:\u001b[0m\u001b[0;34m\u001b[0m\u001b[0;34m\u001b[0m\u001b[0m\n",
      "\u001b[0;32m/usr/lib/python3.8/http/client.py\u001b[0m in \u001b[0;36mreadinto\u001b[0;34m(self, b)\u001b[0m\n\u001b[1;32m    501\u001b[0m         \u001b[0;31m# connection, and the user is reading more bytes than will be provided\u001b[0m\u001b[0;34m\u001b[0m\u001b[0;34m\u001b[0m\u001b[0;34m\u001b[0m\u001b[0m\n\u001b[1;32m    502\u001b[0m         \u001b[0;31m# (for example, reading in 1k chunks)\u001b[0m\u001b[0;34m\u001b[0m\u001b[0;34m\u001b[0m\u001b[0;34m\u001b[0m\u001b[0m\n\u001b[0;32m--> 503\u001b[0;31m         \u001b[0mn\u001b[0m \u001b[0;34m=\u001b[0m \u001b[0mself\u001b[0m\u001b[0;34m.\u001b[0m\u001b[0mfp\u001b[0m\u001b[0;34m.\u001b[0m\u001b[0mreadinto\u001b[0m\u001b[0;34m(\u001b[0m\u001b[0mb\u001b[0m\u001b[0;34m)\u001b[0m\u001b[0;34m\u001b[0m\u001b[0;34m\u001b[0m\u001b[0m\n\u001b[0m\u001b[1;32m    504\u001b[0m         \u001b[0;32mif\u001b[0m \u001b[0;32mnot\u001b[0m \u001b[0mn\u001b[0m \u001b[0;32mand\u001b[0m \u001b[0mb\u001b[0m\u001b[0;34m:\u001b[0m\u001b[0;34m\u001b[0m\u001b[0;34m\u001b[0m\u001b[0m\n\u001b[1;32m    505\u001b[0m             \u001b[0;31m# Ideally, we would raise IncompleteRead if the content-length\u001b[0m\u001b[0;34m\u001b[0m\u001b[0;34m\u001b[0m\u001b[0;34m\u001b[0m\u001b[0m\n",
      "\u001b[0;32m/usr/lib/python3.8/socket.py\u001b[0m in \u001b[0;36mreadinto\u001b[0;34m(self, b)\u001b[0m\n\u001b[1;32m    667\u001b[0m         \u001b[0;32mwhile\u001b[0m \u001b[0;32mTrue\u001b[0m\u001b[0;34m:\u001b[0m\u001b[0;34m\u001b[0m\u001b[0;34m\u001b[0m\u001b[0m\n\u001b[1;32m    668\u001b[0m             \u001b[0;32mtry\u001b[0m\u001b[0;34m:\u001b[0m\u001b[0;34m\u001b[0m\u001b[0;34m\u001b[0m\u001b[0m\n\u001b[0;32m--> 669\u001b[0;31m                 \u001b[0;32mreturn\u001b[0m \u001b[0mself\u001b[0m\u001b[0;34m.\u001b[0m\u001b[0m_sock\u001b[0m\u001b[0;34m.\u001b[0m\u001b[0mrecv_into\u001b[0m\u001b[0;34m(\u001b[0m\u001b[0mb\u001b[0m\u001b[0;34m)\u001b[0m\u001b[0;34m\u001b[0m\u001b[0;34m\u001b[0m\u001b[0m\n\u001b[0m\u001b[1;32m    670\u001b[0m             \u001b[0;32mexcept\u001b[0m \u001b[0mtimeout\u001b[0m\u001b[0;34m:\u001b[0m\u001b[0;34m\u001b[0m\u001b[0;34m\u001b[0m\u001b[0m\n\u001b[1;32m    671\u001b[0m                 \u001b[0mself\u001b[0m\u001b[0;34m.\u001b[0m\u001b[0m_timeout_occurred\u001b[0m \u001b[0;34m=\u001b[0m \u001b[0;32mTrue\u001b[0m\u001b[0;34m\u001b[0m\u001b[0;34m\u001b[0m\u001b[0m\n",
      "\u001b[0;32m/usr/lib/python3.8/ssl.py\u001b[0m in \u001b[0;36mrecv_into\u001b[0;34m(self, buffer, nbytes, flags)\u001b[0m\n\u001b[1;32m   1239\u001b[0m                   \u001b[0;34m\"non-zero flags not allowed in calls to recv_into() on %s\"\u001b[0m \u001b[0;34m%\u001b[0m\u001b[0;34m\u001b[0m\u001b[0;34m\u001b[0m\u001b[0m\n\u001b[1;32m   1240\u001b[0m                   self.__class__)\n\u001b[0;32m-> 1241\u001b[0;31m             \u001b[0;32mreturn\u001b[0m \u001b[0mself\u001b[0m\u001b[0;34m.\u001b[0m\u001b[0mread\u001b[0m\u001b[0;34m(\u001b[0m\u001b[0mnbytes\u001b[0m\u001b[0;34m,\u001b[0m \u001b[0mbuffer\u001b[0m\u001b[0;34m)\u001b[0m\u001b[0;34m\u001b[0m\u001b[0;34m\u001b[0m\u001b[0m\n\u001b[0m\u001b[1;32m   1242\u001b[0m         \u001b[0;32melse\u001b[0m\u001b[0;34m:\u001b[0m\u001b[0;34m\u001b[0m\u001b[0;34m\u001b[0m\u001b[0m\n\u001b[1;32m   1243\u001b[0m             \u001b[0;32mreturn\u001b[0m \u001b[0msuper\u001b[0m\u001b[0;34m(\u001b[0m\u001b[0;34m)\u001b[0m\u001b[0;34m.\u001b[0m\u001b[0mrecv_into\u001b[0m\u001b[0;34m(\u001b[0m\u001b[0mbuffer\u001b[0m\u001b[0;34m,\u001b[0m \u001b[0mnbytes\u001b[0m\u001b[0;34m,\u001b[0m \u001b[0mflags\u001b[0m\u001b[0;34m)\u001b[0m\u001b[0;34m\u001b[0m\u001b[0;34m\u001b[0m\u001b[0m\n",
      "\u001b[0;32m/usr/lib/python3.8/ssl.py\u001b[0m in \u001b[0;36mread\u001b[0;34m(self, len, buffer)\u001b[0m\n\u001b[1;32m   1097\u001b[0m         \u001b[0;32mtry\u001b[0m\u001b[0;34m:\u001b[0m\u001b[0;34m\u001b[0m\u001b[0;34m\u001b[0m\u001b[0m\n\u001b[1;32m   1098\u001b[0m             \u001b[0;32mif\u001b[0m \u001b[0mbuffer\u001b[0m \u001b[0;32mis\u001b[0m \u001b[0;32mnot\u001b[0m \u001b[0;32mNone\u001b[0m\u001b[0;34m:\u001b[0m\u001b[0;34m\u001b[0m\u001b[0;34m\u001b[0m\u001b[0m\n\u001b[0;32m-> 1099\u001b[0;31m                 \u001b[0;32mreturn\u001b[0m \u001b[0mself\u001b[0m\u001b[0;34m.\u001b[0m\u001b[0m_sslobj\u001b[0m\u001b[0;34m.\u001b[0m\u001b[0mread\u001b[0m\u001b[0;34m(\u001b[0m\u001b[0mlen\u001b[0m\u001b[0;34m,\u001b[0m \u001b[0mbuffer\u001b[0m\u001b[0;34m)\u001b[0m\u001b[0;34m\u001b[0m\u001b[0;34m\u001b[0m\u001b[0m\n\u001b[0m\u001b[1;32m   1100\u001b[0m             \u001b[0;32melse\u001b[0m\u001b[0;34m:\u001b[0m\u001b[0;34m\u001b[0m\u001b[0;34m\u001b[0m\u001b[0m\n\u001b[1;32m   1101\u001b[0m                 \u001b[0;32mreturn\u001b[0m \u001b[0mself\u001b[0m\u001b[0;34m.\u001b[0m\u001b[0m_sslobj\u001b[0m\u001b[0;34m.\u001b[0m\u001b[0mread\u001b[0m\u001b[0;34m(\u001b[0m\u001b[0mlen\u001b[0m\u001b[0;34m)\u001b[0m\u001b[0;34m\u001b[0m\u001b[0;34m\u001b[0m\u001b[0m\n",
      "\u001b[0;31mKeyboardInterrupt\u001b[0m: "
     ]
    }
   ],
   "source": [
    "for url in urls:\n",
    "    response = requests.get(url)\n",
    "    \n",
    "    if response.status_code == 200:\n",
    "        arquivo_path = os.path.join(saida_dir, os.path.basename(url))\n",
    "        with open(arquivo_path, 'wb') as f:\n",
    "            f.write(response.content)"
   ]
  },
  {
   "cell_type": "code",
   "execution_count": null,
   "id": "eef65ba1",
   "metadata": {},
   "outputs": [],
   "source": []
  }
 ],
 "metadata": {
  "kernelspec": {
   "display_name": "Python 3",
   "language": "python",
   "name": "python3"
  },
  "language_info": {
   "codemirror_mode": {
    "name": "ipython",
    "version": 3
   },
   "file_extension": ".py",
   "mimetype": "text/x-python",
   "name": "python",
   "nbconvert_exporter": "python",
   "pygments_lexer": "ipython3",
   "version": "3.8.10"
  }
 },
 "nbformat": 4,
 "nbformat_minor": 5
}
