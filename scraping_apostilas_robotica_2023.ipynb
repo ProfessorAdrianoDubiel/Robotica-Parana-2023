{
 "cells": [
  {
   "cell_type": "code",
   "execution_count": 18,
   "id": "f3d00dd2",
   "metadata": {},
   "outputs": [
    {
     "name": "stderr",
     "output_type": "stream",
     "text": [
      "Baixando apostilas: 100%|██████████| 82/82 [03:28<00:00,  2.54s/apostilas]"
     ]
    },
    {
     "name": "stdout",
     "output_type": "stream",
     "text": [
      "O programa baixou 82 apostilas de robótica da SEED/PR do ano de 2023.\n"
     ]
    },
    {
     "name": "stderr",
     "output_type": "stream",
     "text": [
      "\n"
     ]
    }
   ],
   "source": [
    "#Programa de Baixa Apostila Robótica SEED-PR\n",
    "#Autor: Adriano Dubiel\n",
    "#Data: 13 de outubro de 2023 e modificado em 22 de novembro de 2023\n",
    "from urllib.request import urlopen, Request\n",
    "from bs4 import BeautifulSoup\n",
    "import re\n",
    "import os\n",
    "import requests\n",
    "\n",
    "#Endereço da página onde estão as apaostilas em PDF\n",
    "from urllib.request import urlopen\n",
    "from bs4 import BeautifulSoup\n",
    "import re\n",
    "\n",
    "# Endereço da página onde estão as apostilas em PDF\n",
    "html = urlopen(\"https://aluno.escoladigital.pr.gov.br/robotica/aulas/educacional\")\n",
    "bsObj = BeautifulSoup(html.read(), 'html.parser')\n",
    "urls_unicas = set()  # Conjunto para armazenar URLs únicos\n",
    "\n",
    "# Encontrar e armazenar URLs únicas\n",
    "for link in bsObj.find_all('a', {'href': re.compile('https://aluno.escoladigital.pr.gov.br/sites/alunos/arquivos_restritos/files/documento/.*\\.pdf')}):\n",
    "    url = link.get('href')\n",
    "    urls_unicas.add(url.strip())  # Remover \\n e espaços em branco\n",
    "\n",
    "# Converter conjunto para lista\n",
    "urls = list(urls_unicas)\n",
    "\n",
    "#Programa de Baixa Apostila Robótica SEED-PR\n",
    "#Autor: Adriano Dubiel\n",
    "#Data: 13 de outubro de 2023 e modificado em 22 de novembro de 2023\n",
    "\n",
    "from urllib.request import urlopen, Request\n",
    "from bs4 import BeautifulSoup\n",
    "import re\n",
    "\n",
    "import os\n",
    "import requests\n",
    "\n",
    "#Aqui deve ser inserido o endereço da pasta que você deseja armazenar as apostilas.\n",
    "saida_dir = \"/media/adriano/Manaus/robotica/apostilas_II_2023\"\n",
    "\n",
    "#Função que executa o download das apostilas em PDF\n",
    "import os\n",
    "import requests\n",
    "from tqdm import tqdm\n",
    "\n",
    "# ... (código anterior para obter urls_unicas)\n",
    "\n",
    "# Converter conjunto para lista\n",
    "urls = list(urls_unicas)\n",
    "\n",
    "# Barra de progresso\n",
    "with tqdm(total=len(urls), desc='Baixando apostilas', unit='apostilas') as pbar:\n",
    "    for url in urls:\n",
    "        response = requests.get(url)\n",
    "        \n",
    "        if response.status_code == 200:\n",
    "            arquivo_path = os.path.join(saida_dir, os.path.basename(url))\n",
    "            with open(arquivo_path, 'wb') as f:\n",
    "                f.write(response.content)\n",
    "        \n",
    "        # Atualizar barra de progresso\n",
    "        pbar.update(1)\n",
    "\n",
    "# Imprimir mensagem de conclusão\n",
    "print('O programa baixou',len(urls),'apostilas de robótica da SEED/PR do ano de 2023.')"
   ]
  },
  {
   "cell_type": "code",
   "execution_count": null,
   "id": "41736c23",
   "metadata": {},
   "outputs": [],
   "source": []
  }
 ],
 "metadata": {
  "kernelspec": {
   "display_name": "Python 3",
   "language": "python",
   "name": "python3"
  },
  "language_info": {
   "codemirror_mode": {
    "name": "ipython",
    "version": 3
   },
   "file_extension": ".py",
   "mimetype": "text/x-python",
   "name": "python",
   "nbconvert_exporter": "python",
   "pygments_lexer": "ipython3",
   "version": "3.8.10"
  }
 },
 "nbformat": 4,
 "nbformat_minor": 5
}
